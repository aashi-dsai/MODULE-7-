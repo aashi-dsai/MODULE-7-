{
 "cells": [
  {
   "cell_type": "raw",
   "id": "9bfb58a4-a9b3-4170-9537-77e3dca8623d",
   "metadata": {},
   "source": [
    "                            PRACTICAL QUESTIONS OF MODULE 7 DSAI BATCH --------PW SKILLS                                      "
   ]
  },
  {
   "cell_type": "raw",
   "id": "1f50d3af-1f7b-4438-bd6f-887ee02b8c1a",
   "metadata": {},
   "source": [
    "                         TOPIC-  Files, exceptional handling, logging and memory management                                      "
   ]
  },
  {
   "cell_type": "raw",
   "id": "aa1b7af9-2c09-450a-8875-cf85642ea420",
   "metadata": {},
   "source": [
    "NAME - AASHI GAUTAM                                                                EMAIL- aashigautam2006@gmail.com"
   ]
  },
  {
   "cell_type": "raw",
   "id": "b074b655-d099-4b66-9884-c462435d0d55",
   "metadata": {},
   "source": [
    "1- How can you open a file for writing in Python and write a string to it?"
   ]
  },
  {
   "cell_type": "code",
   "execution_count": 4,
   "id": "8dc36fa2-c3d0-4001-85d2-4245a4e09de8",
   "metadata": {},
   "outputs": [
    {
     "name": "stdout",
     "output_type": "stream",
     "text": [
      "File written successfully.\n"
     ]
    }
   ],
   "source": [
    "with open(\"output.txt\", \"w\") as file:\n",
    "    file.write(\"Hello, this is a sample text.\")\n",
    "print(\"File written successfully.\")"
   ]
  },
  {
   "cell_type": "raw",
   "id": "ec955f73-e4e7-4b90-8340-a87247c358b0",
   "metadata": {},
   "source": [
    "2- Write a Python program to read the contents of a file and print each line."
   ]
  },
  {
   "cell_type": "code",
   "execution_count": 5,
   "id": "e1be60b5-c4f7-41c8-8b0a-b2dc42b4c2bc",
   "metadata": {},
   "outputs": [
    {
     "name": "stdout",
     "output_type": "stream",
     "text": [
      "First line\n",
      "Second line\n",
      "Third line\n"
     ]
    }
   ],
   "source": [
    "with open(\"sample.txt\", \"r\") as file:\n",
    "    for line in file:\n",
    "        print(line.strip())"
   ]
  },
  {
   "cell_type": "raw",
   "id": "b3147941-5c3a-42bd-b5f4-f9730a214669",
   "metadata": {},
   "source": [
    "3- How would you handle a case where the file doesn't exist while trying to open it for reading?"
   ]
  },
  {
   "cell_type": "code",
   "execution_count": 6,
   "id": "52560c7c-d6b1-4546-935d-a7ae2534995b",
   "metadata": {},
   "outputs": [
    {
     "name": "stdout",
     "output_type": "stream",
     "text": [
      "File not found.\n"
     ]
    }
   ],
   "source": [
    "try:\n",
    "    with open(\"nonexistent.txt\", \"r\") as file:\n",
    "        print(file.read())\n",
    "except FileNotFoundError:\n",
    "    print(\"File not found.\")"
   ]
  },
  {
   "cell_type": "raw",
   "id": "f396dd39-9302-4562-97c3-e90190e9c247",
   "metadata": {},
   "source": [
    "4- Write a Python script that reads from one file and writes its content to another file."
   ]
  },
  {
   "cell_type": "code",
   "execution_count": 10,
   "id": "2d1bb0a9-91f0-4d50-b49e-d601427a3f92",
   "metadata": {},
   "outputs": [
    {
     "name": "stdout",
     "output_type": "stream",
     "text": [
      "File copied successfully.\n"
     ]
    }
   ],
   "source": [
    "# Step 1: Create the source.txt file\n",
    "with open(\"source.txt\", \"w\") as file:\n",
    "    file.write(\"This is a sample text in the source file.\")\n",
    "# Step 2: Copy content from source.txt to destination.txt\n",
    "with open(\"source.txt\", \"r\") as source, open(\"destination.txt\", \"w\") as destination:\n",
    "    content = source.read()\n",
    "    destination.write(content)\n",
    "\n",
    "print(\"File copied successfully.\")\n"
   ]
  },
  {
   "cell_type": "raw",
   "id": "6487e113-1f22-4ee0-ae75-ec6771518760",
   "metadata": {},
   "source": [
    "5- How would you catch and handle division by zero error in Python?"
   ]
  },
  {
   "cell_type": "code",
   "execution_count": 11,
   "id": "b845a778-49fe-4bd9-b62f-3dad1852f3e2",
   "metadata": {},
   "outputs": [
    {
     "name": "stdout",
     "output_type": "stream",
     "text": [
      "Cannot divide by zero.\n"
     ]
    }
   ],
   "source": [
    "try:\n",
    "    result = 10 / 0\n",
    "except ZeroDivisionError:\n",
    "    print(\"Cannot divide by zero.\")"
   ]
  },
  {
   "cell_type": "raw",
   "id": "fdc46431-2a8a-4542-a220-e55e9db108a1",
   "metadata": {},
   "source": [
    "6- Write a Python program that logs an error message to a log file when a division by zero exception occurs."
   ]
  },
  {
   "cell_type": "code",
   "execution_count": 14,
   "id": "3a5356c0-5115-4892-8561-080b66014a4d",
   "metadata": {},
   "outputs": [
    {
     "name": "stdout",
     "output_type": "stream",
     "text": [
      "Program ran successfully. Check 'app.log' file for the error log.\n"
     ]
    }
   ],
   "source": [
    "import logging\n",
    "\n",
    "# Reconfigure logging forcibly to make it work in Jupyter\n",
    "for handler in logging.root.handlers[:]:\n",
    "    logging.root.removeHandler(handler)\n",
    "\n",
    "logging.basicConfig(\n",
    "    filename=\"app.log\", \n",
    "    level=logging.ERROR, \n",
    "    format=\"%(asctime)s - %(levelname)s - %(message)s\"\n",
    ")\n",
    "\n",
    "try:\n",
    "    result = 5 / 0\n",
    "except ZeroDivisionError as e:\n",
    "    logging.error(\"Division by zero occurred: %s\", e)\n",
    "\n",
    "print(\"Program ran successfully. Check 'app.log' file for the error log.\")\n"
   ]
  },
  {
   "cell_type": "raw",
   "id": "bc4c3f37-c000-46ea-9b54-ca0e8f422b2a",
   "metadata": {},
   "source": [
    "7- How do you log information at different levels (INFO, ERROR, WARNING) in Python using the logging module? "
   ]
  },
  {
   "cell_type": "code",
   "execution_count": 17,
   "id": "23aa3b76-e2c9-4300-8b53-fcf866171928",
   "metadata": {},
   "outputs": [
    {
     "name": "stdout",
     "output_type": "stream",
     "text": [
      "Error logged successfully.\n"
     ]
    }
   ],
   "source": [
    "import logging\n",
    "\n",
    "for handler in logging.root.handlers[:]:\n",
    "    logging.root.removeHandler(handler)\n",
    "\n",
    "logging.basicConfig(filename=\"error_log.log\", level=logging.ERROR, format='%(asctime)s - %(levelname)s - %(message)s')\n",
    "\n",
    "try:\n",
    "    result = 10 / 0\n",
    "except ZeroDivisionError as e:\n",
    "    logging.error(\"Division by zero error: %s\", e)\n",
    "\n",
    "print(\"Error logged successfully.\")\n"
   ]
  },
  {
   "cell_type": "raw",
   "id": "a3b85962-2f28-4669-a750-9f309d09bdab",
   "metadata": {},
   "source": [
    "8- Write a program to handle a file opening error using exception handling."
   ]
  },
  {
   "cell_type": "code",
   "execution_count": 18,
   "id": "b76be4b4-f9f3-4f51-8b16-41e26c798d9f",
   "metadata": {},
   "outputs": [
    {
     "name": "stdout",
     "output_type": "stream",
     "text": [
      "Logged INFO, WARNING, and ERROR.\n"
     ]
    }
   ],
   "source": [
    "import logging\n",
    "\n",
    "for handler in logging.root.handlers[:]:\n",
    "    logging.root.removeHandler(handler)\n",
    "\n",
    "logging.basicConfig(filename=\"multi_level.log\", level=logging.DEBUG, format='%(asctime)s - %(levelname)s - %(message)s')\n",
    "\n",
    "logging.info(\"This is an informational message.\")\n",
    "logging.warning(\"This is a warning.\")\n",
    "logging.error(\"This is an error message.\")\n",
    "\n",
    "print(\"Logged INFO, WARNING, and ERROR.\")\n"
   ]
  },
  {
   "cell_type": "raw",
   "id": "64f848f2-bb78-4585-beda-9a6ffeb3b5c0",
   "metadata": {},
   "source": [
    "9- How can you read a file line by line and store its content in a list in Python?"
   ]
  },
  {
   "cell_type": "code",
   "execution_count": 19,
   "id": "b24af421-207c-4c3e-89e4-0b2c2cf5895e",
   "metadata": {},
   "outputs": [
    {
     "name": "stdout",
     "output_type": "stream",
     "text": [
      "File not found: [Errno 2] No such file or directory: 'non_existing_file.txt'\n"
     ]
    }
   ],
   "source": [
    "try:\n",
    "    with open(\"non_existing_file.txt\", \"r\") as file:\n",
    "        content = file.read()\n",
    "except FileNotFoundError as e:\n",
    "    print(\"File not found:\", e)\n"
   ]
  },
  {
   "cell_type": "raw",
   "id": "a560de3c-c1a3-4bbc-b479-7d82396f2741",
   "metadata": {},
   "source": [
    "10- How can you append data to an existing file in Python?"
   ]
  },
  {
   "cell_type": "code",
   "execution_count": 20,
   "id": "40efc06c-5224-4c42-8993-652e379814a9",
   "metadata": {},
   "outputs": [
    {
     "name": "stdout",
     "output_type": "stream",
     "text": [
      "File lines: ['Line 1\\n', 'Line 2\\n', 'Line 3']\n"
     ]
    }
   ],
   "source": [
    "with open(\"source.txt\", \"w\") as f:\n",
    "    f.write(\"Line 1\\nLine 2\\nLine 3\")\n",
    "\n",
    "lines = []\n",
    "with open(\"source.txt\", \"r\") as file:\n",
    "    lines = file.readlines()\n",
    "\n",
    "print(\"File lines:\", lines)\n"
   ]
  },
  {
   "cell_type": "raw",
   "id": "7f4f597e-e18a-4e7d-8e73-e7346b72b7d8",
   "metadata": {},
   "source": [
    "11- Write a Python program that uses a try-except block to handle an error when attempting to access a dictionary key that doesn't exist."
   ]
  },
  {
   "cell_type": "code",
   "execution_count": 21,
   "id": "26ae9194-65e9-4eae-b459-0267529aaff6",
   "metadata": {},
   "outputs": [
    {
     "name": "stdout",
     "output_type": "stream",
     "text": [
      "Data appended successfully.\n"
     ]
    }
   ],
   "source": [
    "with open(\"source.txt\", \"a\") as file:\n",
    "    file.write(\"\\nAppended line\")\n",
    "\n",
    "print(\"Data appended successfully.\")\n"
   ]
  },
  {
   "cell_type": "raw",
   "id": "76d854bb-3ec4-4ed4-81a7-84d8abd2ec8b",
   "metadata": {},
   "source": [
    "12- Write a program that demonstrates using multiple except blocks to handle different types of exceptions."
   ]
  },
  {
   "cell_type": "code",
   "execution_count": 22,
   "id": "d97b1fbd-f6b5-4303-8002-995e6011edb3",
   "metadata": {},
   "outputs": [
    {
     "name": "stdout",
     "output_type": "stream",
     "text": [
      "Key does not exist in dictionary.\n"
     ]
    }
   ],
   "source": [
    "data = {\"name\": \"Aashi\"}\n",
    "\n",
    "try:\n",
    "    print(data[\"age\"])\n",
    "except KeyError:\n",
    "    print(\"Key does not exist in dictionary.\")\n"
   ]
  },
  {
   "cell_type": "raw",
   "id": "f4c0dec3-b5a1-492d-aa1e-e0879d2f1708",
   "metadata": {},
   "source": [
    "13- How would you check if a file exists before attempting to read it in Python?"
   ]
  },
  {
   "cell_type": "code",
   "execution_count": 23,
   "id": "871b86ea-a1f3-4d2a-bb3f-4c56cac7ce34",
   "metadata": {},
   "outputs": [
    {
     "name": "stdout",
     "output_type": "stream",
     "text": [
      "Index out of range.\n"
     ]
    }
   ],
   "source": [
    "try:\n",
    "    lst = [1, 2]\n",
    "    print(lst[5])\n",
    "    val = int(\"abc\")\n",
    "except IndexError:\n",
    "    print(\"Index out of range.\")\n",
    "except ValueError:\n",
    "    print(\"Invalid value type.\")\n"
   ]
  },
  {
   "cell_type": "raw",
   "id": "bb3553e3-e99e-48fa-b53d-e72660c61451",
   "metadata": {},
   "source": [
    "14- Write a program that uses the logging module to log both informational and error messages. "
   ]
  },
  {
   "cell_type": "code",
   "execution_count": 24,
   "id": "8782fe86-6884-4db6-9ff8-311456df2dbb",
   "metadata": {},
   "outputs": [
    {
     "name": "stdout",
     "output_type": "stream",
     "text": [
      "Line 1\n",
      "Line 2\n",
      "Line 3\n",
      "Appended line\n"
     ]
    }
   ],
   "source": [
    "import os\n",
    "\n",
    "if os.path.exists(\"source.txt\"):\n",
    "    with open(\"source.txt\", \"r\") as file:\n",
    "        print(file.read())\n",
    "else:\n",
    "    print(\"File does not exist.\")\n"
   ]
  },
  {
   "cell_type": "raw",
   "id": "8c68003e-fd1a-4082-9f05-39c7791ebd41",
   "metadata": {},
   "source": [
    "15- Write a Python program that prints the content of a file and handles the case when the file is empty."
   ]
  },
  {
   "cell_type": "code",
   "execution_count": 27,
   "id": "1792db4a-7b21-407a-8468-0471b1615335",
   "metadata": {},
   "outputs": [
    {
     "name": "stdout",
     "output_type": "stream",
     "text": [
      "File is empty.\n"
     ]
    }
   ],
   "source": [
    "with open(\"empty.txt\", \"w\") as file:\n",
    "    pass  # create empty file\n",
    "\n",
    "with open(\"empty.txt\", \"r\") as file:\n",
    "    content = file.read()\n",
    "    if content:\n",
    "        print(content)\n",
    "    else:\n",
    "        print(\"File is empty.\")\n"
   ]
  },
  {
   "cell_type": "raw",
   "id": "b5176c86-8805-4cad-a587-d3397acbf61f",
   "metadata": {},
   "source": [
    "16- Demonstrate how to use memory profiling to check the memory usage of a small program."
   ]
  },
  {
   "cell_type": "code",
   "execution_count": 29,
   "id": "d72b063c-9fc3-41c9-ab8f-546370970da3",
   "metadata": {},
   "outputs": [
    {
     "ename": "ModuleNotFoundError",
     "evalue": "No module named 'memory_profiler'",
     "output_type": "error",
     "traceback": [
      "\u001b[1;31m---------------------------------------------------------------------------\u001b[0m",
      "\u001b[1;31mModuleNotFoundError\u001b[0m                       Traceback (most recent call last)",
      "Cell \u001b[1;32mIn[29], line 4\u001b[0m\n\u001b[0;32m      1\u001b[0m \u001b[38;5;66;03m# You need to install memory_profiler first (run in terminal if not installed)\u001b[39;00m\n\u001b[0;32m      2\u001b[0m \u001b[38;5;66;03m# !pip install memory_profiler\u001b[39;00m\n\u001b[1;32m----> 4\u001b[0m \u001b[38;5;28;01mfrom\u001b[39;00m \u001b[38;5;21;01mmemory_profiler\u001b[39;00m \u001b[38;5;28;01mimport\u001b[39;00m profile\n\u001b[0;32m      6\u001b[0m \u001b[38;5;129m@profile\u001b[39m\n\u001b[0;32m      7\u001b[0m \u001b[38;5;28;01mdef\u001b[39;00m \u001b[38;5;21mmy_function\u001b[39m():\n\u001b[0;32m      8\u001b[0m     data \u001b[38;5;241m=\u001b[39m [x \u001b[38;5;241m*\u001b[39m \u001b[38;5;241m2\u001b[39m \u001b[38;5;28;01mfor\u001b[39;00m x \u001b[38;5;129;01min\u001b[39;00m \u001b[38;5;28mrange\u001b[39m(\u001b[38;5;241m100000\u001b[39m)]\n",
      "\u001b[1;31mModuleNotFoundError\u001b[0m: No module named 'memory_profiler'"
     ]
    }
   ],
   "source": [
    "# You need to install memory_profiler first (run in terminal if not installed)\n",
    "# !pip install memory_profiler\n",
    "\n",
    "from memory_profiler import profile\n",
    "\n",
    "@profile\n",
    "def my_function():\n",
    "    data = [x * 2 for x in range(100000)]\n",
    "    return data\n",
    "\n",
    "my_function()\n"
   ]
  },
  {
   "cell_type": "raw",
   "id": "771caa1e-79ef-47c9-ac41-d8044a039ff7",
   "metadata": {},
   "source": [
    "17- Write a Python program to create and write a list of numbers to a file, one number per line"
   ]
  },
  {
   "cell_type": "code",
   "execution_count": 30,
   "id": "6c5d55b8-d73d-487a-8975-06a156ac3e1a",
   "metadata": {},
   "outputs": [
    {
     "name": "stdout",
     "output_type": "stream",
     "text": [
      "Numbers written to file.\n"
     ]
    }
   ],
   "source": [
    "numbers = [1, 2, 3, 4, 5]\n",
    "\n",
    "with open(\"numbers.txt\", \"w\") as file:\n",
    "    for num in numbers:\n",
    "        file.write(f\"{num}\\n\")\n",
    "\n",
    "print(\"Numbers written to file.\")\n"
   ]
  },
  {
   "cell_type": "raw",
   "id": "d98a11d9-2e89-4841-9d0b-ea2c6b2d552a",
   "metadata": {},
   "source": [
    "18- How would you implement a basic logging setup that logs to a file with rotation after 1MB"
   ]
  },
  {
   "cell_type": "code",
   "execution_count": 31,
   "id": "ae915ac5-48a7-4a97-907c-24379ac0ef01",
   "metadata": {},
   "outputs": [
    {
     "name": "stdout",
     "output_type": "stream",
     "text": [
      "Logs written with rotation.\n"
     ]
    }
   ],
   "source": [
    "import logging\n",
    "from logging.handlers import RotatingFileHandler\n",
    "\n",
    "# Remove existing handlers\n",
    "for handler in logging.root.handlers[:]:\n",
    "    logging.root.removeHandler(handler)\n",
    "\n",
    "handler = RotatingFileHandler(\"rotated.log\", maxBytes=1024*1024, backupCount=3)\n",
    "logging.basicConfig(\n",
    "    handlers=[handler],\n",
    "    level=logging.INFO,\n",
    "    format=\"%(asctime)s - %(levelname)s - %(message)s\"\n",
    ")\n",
    "\n",
    "for i in range(10000):\n",
    "    logging.info(\"Logging entry number: %s\", i)\n",
    "\n",
    "print(\"Logs written with rotation.\")\n"
   ]
  },
  {
   "cell_type": "raw",
   "id": "7e8a11b7-070e-403b-a650-1e4a4b495b20",
   "metadata": {},
   "source": [
    "19- Write a program that handles both IndexError and KeyError using a try-except block?"
   ]
  },
  {
   "cell_type": "code",
   "execution_count": 32,
   "id": "cac56a59-644c-49ca-b801-c586b90b2f5d",
   "metadata": {},
   "outputs": [
    {
     "name": "stdout",
     "output_type": "stream",
     "text": [
      "IndexError handled.\n"
     ]
    }
   ],
   "source": [
    "try:\n",
    "    my_list = [1, 2]\n",
    "    print(my_list[5])\n",
    "    my_dict = {\"name\": \"Aashi\"}\n",
    "    print(my_dict[\"age\"])\n",
    "except IndexError:\n",
    "    print(\"IndexError handled.\")\n",
    "except KeyError:\n",
    "    print(\"KeyError handled.\")\n"
   ]
  },
  {
   "cell_type": "raw",
   "id": "9f9592ee-02d4-47ef-a712-9ad6b3562b09",
   "metadata": {},
   "source": [
    "20- How would you open a file and read its contents using a context manager in Python?"
   ]
  },
  {
   "cell_type": "code",
   "execution_count": 33,
   "id": "00de01d6-372b-48d4-9da6-bf6101af294d",
   "metadata": {},
   "outputs": [
    {
     "name": "stdout",
     "output_type": "stream",
     "text": [
      "Line 1\n",
      "Line 2\n",
      "Line 3\n",
      "Appended line\n"
     ]
    }
   ],
   "source": [
    "with open(\"source.txt\", \"r\") as file:\n",
    "    content = file.read()\n",
    "    print(content)\n"
   ]
  },
  {
   "cell_type": "raw",
   "id": "abf68136-65da-4378-9a27-fac054bf93d2",
   "metadata": {},
   "source": [
    "21- Write a Python program that reads a file and prints the number of occurrences of a specific word?"
   ]
  },
  {
   "cell_type": "code",
   "execution_count": 34,
   "id": "1d550a1b-32bb-4c91-a2e4-3f91dd80699a",
   "metadata": {},
   "outputs": [
    {
     "name": "stdout",
     "output_type": "stream",
     "text": [
      "The word 'data' occurred 2 times.\n"
     ]
    }
   ],
   "source": [
    "word_to_count = \"data\"\n",
    "\n",
    "with open(\"sample.txt\", \"w\") as file:\n",
    "    file.write(\"data science is the future. data is power.\")\n",
    "\n",
    "with open(\"sample.txt\", \"r\") as file:\n",
    "    content = file.read()\n",
    "    count = content.lower().count(word_to_count.lower())\n",
    "\n",
    "print(f\"The word '{word_to_count}' occurred {count} times.\")\n"
   ]
  },
  {
   "cell_type": "raw",
   "id": "d4d052d9-5285-4f2c-aa95-5415219f4464",
   "metadata": {},
   "source": [
    "22-Write a Python program that writes to a log file when an error occurs during file handling"
   ]
  },
  {
   "cell_type": "code",
   "execution_count": 35,
   "id": "9be74f38-03a6-45fa-9a21-8e96c536bc83",
   "metadata": {},
   "outputs": [
    {
     "name": "stdout",
     "output_type": "stream",
     "text": [
      "File is empty.\n"
     ]
    }
   ],
   "source": [
    "file_path = \"check_empty.txt\"\n",
    "\n",
    "# Create empty file\n",
    "with open(file_path, \"w\") as f:\n",
    "    pass\n",
    "\n",
    "if os.path.exists(file_path) and os.path.getsize(file_path) == 0:\n",
    "    print(\"File is empty.\")\n",
    "else:\n",
    "    with open(file_path, \"r\") as f:\n",
    "        print(f.read())\n"
   ]
  },
  {
   "cell_type": "code",
   "execution_count": null,
   "id": "575f12a7-f4a5-47a9-8159-3aa1a43b4825",
   "metadata": {},
   "outputs": [],
   "source": [
    "                                                    T H A N K    Y O U "
   ]
  }
 ],
 "metadata": {
  "kernelspec": {
   "display_name": "Python 3 (ipykernel)",
   "language": "python",
   "name": "python3"
  },
  "language_info": {
   "codemirror_mode": {
    "name": "ipython",
    "version": 3
   },
   "file_extension": ".py",
   "mimetype": "text/x-python",
   "name": "python",
   "nbconvert_exporter": "python",
   "pygments_lexer": "ipython3",
   "version": "3.12.7"
  }
 },
 "nbformat": 4,
 "nbformat_minor": 5
}
